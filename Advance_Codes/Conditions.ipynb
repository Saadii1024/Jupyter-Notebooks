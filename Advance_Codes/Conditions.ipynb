{
 "cells": [
  {
   "cell_type": "markdown",
   "metadata": {},
   "source": [
    "# Conditions"
   ]
  },
  {
   "cell_type": "code",
   "execution_count": null,
   "metadata": {},
   "outputs": [],
   "source": [
    "score=int(input())\n",
    "if score >=90:\n",
    "    print(\"A\")\n",
    "else:\n",
    "    if score >=80:\n",
    "        print(\"B\")\n",
    "    else:\n",
    "        if score >=70:\n",
    "            print(\"C\")\n",
    "        else:\n",
    "            if score >=60:\n",
    "                print(\"D\")\n",
    "            else:\n",
    "                print(\"F\")"
   ]
  },
  {
   "cell_type": "code",
   "execution_count": null,
   "metadata": {},
   "outputs": [],
   "source": [
    "score=int(input())\n",
    "if score >=90:\n",
    "    print(\"A\")\n",
    "elif score >=80:\n",
    "    print(\"B\")\n",
    "elif score >=70:\n",
    "    print(\"C\")\n",
    "elif score >=60:\n",
    "    print(\"D\")\n",
    "else:\n",
    "    print(\"F\")"
   ]
  },
  {
   "cell_type": "code",
   "execution_count": null,
   "metadata": {},
   "outputs": [],
   "source": [
    "\n",
    "def FruitClassifier(shape,color):\n",
    "    if shape==\"round\" and color==\"red\":\n",
    "        print(\"Fruite is Apple.\")\n",
    "    elif shape==\"round\" and color==\"orange\":\n",
    "        print(\"Fruite is Orange.\")\n",
    "    elif shape==\"curved\" and color==\"yellow\":\n",
    "        print(\"Fruite is Banana.\")\n",
    "    elif shape==\"oval\" and color==\"red\":\n",
    "        print(\"Fruite is Strawberry.\")\n",
    "    else:\n",
    "        print(\"I don't know.\")\n",
    "\n",
    "FruitClassifier(\"oval\",\"red\")"
   ]
  },
  {
   "cell_type": "code",
   "execution_count": null,
   "metadata": {},
   "outputs": [],
   "source": [
    "\n",
    "def FruitClassifier(shape,color):\n",
    "    if shape==\"round\" and color==\"red\":\n",
    "        print(\"Fruite is Apple.\")\n",
    "    elif shape==\"round\" and color==\"orange\":\n",
    "        print(\"Fruite is Orange.\")\n",
    "    elif shape==\"curved\" and color==\"yellow\":\n",
    "        print(\"Fruite is Banana.\")\n",
    "    elif shape==\"oval\" and color==\"red\":\n",
    "        print(\"Fruite is Strawberry.\")\n",
    "    else:\n",
    "        print(\"I don't know.\")\n",
    "\n",
    "FruitClassifier(\"curved\",\"yellow\")"
   ]
  },
  {
   "cell_type": "code",
   "execution_count": null,
   "metadata": {},
   "outputs": [],
   "source": [
    "def gatecheck(mask,idcard,uniform):\n",
    "    if mask==True and idcard==True and uniform==True:\n",
    "        print(\"You are allowed.\")\n",
    "    elif mask==False and idcard==True and uniform==True:\n",
    "        print(\"You are not allowed because you don't have Mask\")\n",
    "    elif mask==True and idcard==False and uniform==True:\n",
    "        print(\"You are not allowed because you don't have idcard\")\n",
    "    elif mask==True and idcard==True and uniform==False:\n",
    "        print(\"You are not allowed because you don't have uniform\")\n",
    "    else:\n",
    "        print(\"You are not allowed.\")\n",
    "    \n",
    "    "
   ]
  },
  {
   "cell_type": "code",
   "execution_count": null,
   "metadata": {},
   "outputs": [],
   "source": [
    "gatecheck(True,False,True)"
   ]
  },
  {
   "cell_type": "code",
   "execution_count": null,
   "metadata": {},
   "outputs": [],
   "source": [
    "def gatecheck(mask,idcard,uniform):\n",
    "    if mask:\n",
    "        if idcard:\n",
    "            if uniform:\n",
    "                print(\"You are allowed.\")\n",
    "            else:\n",
    "                print(\"Your uniform is not proper. You are not allowed.\")\n",
    "        else:\n",
    "            print(\"Your don't have id card. You are not allowed.\")\n",
    "    else: \n",
    "        print(\"Your don't have mask. You are not allowed.\")\n",
    "gatecheck(True,True,False)"
   ]
  },
  {
   "cell_type": "code",
   "execution_count": null,
   "metadata": {},
   "outputs": [],
   "source": []
  }
 ],
 "metadata": {
  "kernelspec": {
   "display_name": "Python 3",
   "language": "python",
   "name": "python3"
  },
  "language_info": {
   "codemirror_mode": {
    "name": "ipython",
    "version": 3
   },
   "file_extension": ".py",
   "mimetype": "text/x-python",
   "name": "python",
   "nbconvert_exporter": "python",
   "pygments_lexer": "ipython3",
   "version": "3.8.5"
  }
 },
 "nbformat": 4,
 "nbformat_minor": 4
}
