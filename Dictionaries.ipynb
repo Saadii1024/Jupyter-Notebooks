{
 "cells": [
  {
   "cell_type": "markdown",
   "metadata": {},
   "source": [
    "# Dictionaries"
   ]
  },
  {
   "cell_type": "code",
   "execution_count": null,
   "metadata": {},
   "outputs": [],
   "source": [
    "thisdict={} # this a dictionary represented by {}\n",
    "print(thisdict)"
   ]
  },
  {
   "cell_type": "code",
   "execution_count": null,
   "metadata": {},
   "outputs": [],
   "source": [
    "thisdict={\n",
    "    \"brand\":\"Ford\",         #keywords are written in the braces\n",
    "    \"Model\":\"Mustang\",\n",
    "    \"Year\":1964\n",
    "}\n",
    "print(thisdict)"
   ]
  },
  {
   "cell_type": "code",
   "execution_count": null,
   "metadata": {},
   "outputs": [],
   "source": [
    "x=thisdict[\"Model\"] # taking values through index\n",
    "print(x)"
   ]
  },
  {
   "cell_type": "code",
   "execution_count": null,
   "metadata": {},
   "outputs": [],
   "source": [
    "x=thisdict.get(\"Model\") #taking values through build in function in the python (.get)\n",
    "print(x)"
   ]
  },
  {
   "cell_type": "code",
   "execution_count": null,
   "metadata": {},
   "outputs": [],
   "source": [
    "thisdict={\n",
    "    \"brand\":\"Ford\",         #keywords are written in the braces\n",
    "    \"Model\":\"Mustang\",\n",
    "    \"Year\":1964\n",
    "}\n",
    "thisdict[\"Year\"]=2018\n",
    "print(thisdict)"
   ]
  },
  {
   "cell_type": "code",
   "execution_count": null,
   "metadata": {},
   "outputs": [],
   "source": [
    "thisdict={\n",
    "    \"Brand\":\"Ford\",\n",
    "    \"Model\":\"Mustang\",\n",
    "    \"Year\":1964\n",
    "}\n",
    "thisdict[\"Color\"]= \"Black\" # adding the  a new value \n",
    "print(thisdict)"
   ]
  },
  {
   "cell_type": "code",
   "execution_count": null,
   "metadata": {},
   "outputs": [],
   "source": [
    "thisdict={\n",
    "    \"Brand\":\"Ford\",\n",
    "    \"Model\":\"Mustang\",\n",
    "    \"Year\":1964\n",
    "}\n",
    "thisdict.pop(\"Model\")\n",
    "print(thisdict)"
   ]
  },
  {
   "cell_type": "code",
   "execution_count": null,
   "metadata": {},
   "outputs": [],
   "source": [
    "thisdict={\n",
    "    \"Brand\":\"Ford\",\n",
    "    \"Model\":\"Mustang\",\n",
    "    \"Year\":1964\n",
    "}\n",
    "thisdict.popitem()\n",
    "print(thisdict)"
   ]
  },
  {
   "cell_type": "code",
   "execution_count": null,
   "metadata": {},
   "outputs": [],
   "source": [
    "thisdict={\n",
    "    \"Brand\":\"Ford\",\n",
    "    \"Model\":\"Mustang\",\n",
    "    \"Year\":1964\n",
    "}\n",
    "del thisdict[\"Model\"]\n",
    "print(thisdict)"
   ]
  },
  {
   "cell_type": "code",
   "execution_count": null,
   "metadata": {},
   "outputs": [],
   "source": [
    "thisdict={\n",
    "    \"Brand\":\"Ford\",\n",
    "    \"Model\":\"Mustang\",\n",
    "    \"Year\":1964\n",
    "}\n",
    "thisdict.clear()\n",
    "print(thisdict)"
   ]
  },
  {
   "cell_type": "code",
   "execution_count": null,
   "metadata": {},
   "outputs": [],
   "source": [
    "dic={\n",
    "    \"a\":[1,2,3],\n",
    "    \"b\":[4,5,6],\n",
    "    \"c\":[7,8,9],\n",
    "}\n",
    "x=dic[\"a\"][2]\n",
    "print(x)"
   ]
  },
  {
   "cell_type": "code",
   "execution_count": null,
   "metadata": {},
   "outputs": [],
   "source": [
    "thisdict={\n",
    "    \"brand\":\"Ford\",         #keywords are written in the braces\n",
    "    \"Model\":\"Mustang\",\n",
    "    \"Year\":1964\n",
    "}\n",
    "for x in thisdict:\n",
    "    print(x)# it is use to display keys"
   ]
  },
  {
   "cell_type": "code",
   "execution_count": null,
   "metadata": {},
   "outputs": [],
   "source": [
    "thisdict={\n",
    "    \"brand\":\"Ford\",         \n",
    "    \"Model\":\"Mustang\",\n",
    "    \"Year\":1964\n",
    "}\n",
    "for x in thisdict:\n",
    "    print(thisdict[x])# it is use to display the values if keys"
   ]
  },
  {
   "cell_type": "code",
   "execution_count": null,
   "metadata": {},
   "outputs": [],
   "source": [
    "thisdict={\n",
    "    \"brand\":\"Ford\",         #keywords are written in the braces\n",
    "    \"Model\":\"Mustang\",\n",
    "    \"Year\":1964\n",
    "}\n",
    "for x in thisdict.values():\n",
    "    print(x)"
   ]
  },
  {
   "cell_type": "code",
   "execution_count": null,
   "metadata": {},
   "outputs": [],
   "source": [
    "thisdict={\n",
    "    \"brand\":\"Ford\",         #keywords are written in the braces\n",
    "    \"Model\":\"Mustang\",\n",
    "    \"Year\":1964\n",
    "}\n",
    "for x,y in thisdict.items(): # items function will return us iteams in  tuple form\n",
    "    print(x,y)"
   ]
  },
  {
   "cell_type": "code",
   "execution_count": null,
   "metadata": {},
   "outputs": [],
   "source": [
    "thisdict={\n",
    "    \"brand\":\"Ford\",         #keywords are written in the braces\n",
    "    \"Model\":\"Mustang\",\n",
    "    \"Year\":1964\n",
    "}\n",
    "if \"Model\" in thisdict:\n",
    "    print(\"Yes..! Model is in the dictionary\")"
   ]
  },
  {
   "cell_type": "code",
   "execution_count": null,
   "metadata": {},
   "outputs": [],
   "source": [
    "dic={\n",
    "    \"a\":[1,2,3],\n",
    "    \"b\":'saad',\n",
    "    \"c\":'ahmad'\n",
    "    }\n",
    "for i in dic:\n",
    "    print(i)"
   ]
  },
  {
   "cell_type": "code",
   "execution_count": null,
   "metadata": {},
   "outputs": [],
   "source": []
  }
 ],
 "metadata": {
  "kernelspec": {
   "display_name": "Python 3",
   "language": "python",
   "name": "python3"
  },
  "language_info": {
   "codemirror_mode": {
    "name": "ipython",
    "version": 3
   },
   "file_extension": ".py",
   "mimetype": "text/x-python",
   "name": "python",
   "nbconvert_exporter": "python",
   "pygments_lexer": "ipython3",
   "version": "3.8.5"
  }
 },
 "nbformat": 4,
 "nbformat_minor": 4
}
