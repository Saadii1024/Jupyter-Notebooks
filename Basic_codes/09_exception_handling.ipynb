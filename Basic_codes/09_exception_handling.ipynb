{
 "cells": [
  {
   "cell_type": "markdown",
   "metadata": {
    "slideshow": {
     "slide_type": "slide"
    }
   },
   "source": [
    "# Exception Handling "
   ]
  },
  {
   "cell_type": "code",
   "execution_count": null,
   "metadata": {
    "slideshow": {
     "slide_type": "slide"
    }
   },
   "outputs": [],
   "source": [
    "v    # remember this?"
   ]
  },
  {
   "cell_type": "code",
   "execution_count": null,
   "metadata": {
    "slideshow": {
     "slide_type": "slide"
    }
   },
   "outputs": [],
   "source": [
    "filename =str(input(\"Enter the filename\"))\n",
    "f = open(filename, 'r')\n",
    "print(\"Finished\")"
   ]
  },
  {
   "cell_type": "code",
   "execution_count": null,
   "metadata": {
    "slideshow": {
     "slide_type": "slide"
    }
   },
   "outputs": [],
   "source": [
    "float('NA')"
   ]
  },
  {
   "cell_type": "markdown",
   "metadata": {
    "slideshow": {
     "slide_type": "slide"
    }
   },
   "source": [
    "Other examples: database connectivity, internet connectivity, bad values by users"
   ]
  },
  {
   "cell_type": "code",
   "execution_count": null,
   "metadata": {
    "slideshow": {
     "slide_type": "slide"
    }
   },
   "outputs": [],
   "source": [
    "def div(num, den): \n",
    "    return num / den"
   ]
  },
  {
   "cell_type": "code",
   "execution_count": null,
   "metadata": {
    "slideshow": {
     "slide_type": "fragment"
    }
   },
   "outputs": [],
   "source": [
    "div(99, 0)"
   ]
  },
  {
   "cell_type": "code",
   "execution_count": null,
   "metadata": {
    "slideshow": {
     "slide_type": "slide"
    }
   },
   "outputs": [],
   "source": [
    "div(4, 0)"
   ]
  },
  {
   "cell_type": "markdown",
   "metadata": {
    "slideshow": {
     "slide_type": "slide"
    }
   },
   "source": [
    "Ok, that's bad but expected. However, this is not the normal case. It's an exceptional case. So, we need to handle this exception. "
   ]
  },
  {
   "cell_type": "code",
   "execution_count": null,
   "metadata": {
    "slideshow": {
     "slide_type": "slide"
    }
   },
   "outputs": [],
   "source": [
    "num = 5\n",
    "den = 0\n",
    "try: \n",
    "    print(num, \"/\", den,\"=\", div(num, den))\n",
    "    print(\"Everything divided successfully\") \n",
    "    \n",
    "except ZeroDivisionError: \n",
    "    print(\"Cannot divide by zero\")\n",
    "    \n",
    "print(\"done\")"
   ]
  },
  {
   "cell_type": "markdown",
   "metadata": {
    "slideshow": {
     "slide_type": "slide"
    }
   },
   "source": [
    "## Bubbling Exceptions "
   ]
  },
  {
   "cell_type": "code",
   "execution_count": null,
   "metadata": {},
   "outputs": [],
   "source": [
    "def mul(n1, n2):\n",
    "    return n1 * n2"
   ]
  },
  {
   "cell_type": "code",
   "execution_count": null,
   "metadata": {},
   "outputs": [],
   "source": [
    "def calculator(op, n1, n2): \n",
    "    if op == 'div': \n",
    "        return div(n1, n2)\n",
    "    elif op == 'mul': \n",
    "        return mul(n1, n2) "
   ]
  },
  {
   "cell_type": "code",
   "execution_count": null,
   "metadata": {
    "slideshow": {
     "slide_type": "slide"
    }
   },
   "outputs": [],
   "source": [
    "print(calculator('div', 4, 0))\n",
    "print(\"done\")"
   ]
  },
  {
   "cell_type": "code",
   "execution_count": null,
   "metadata": {
    "slideshow": {
     "slide_type": "slide"
    }
   },
   "outputs": [],
   "source": [
    "x = 0\n",
    "try: \n",
    "    print(\"Div 4 by 0 is:\", calculator('div', 4, x))\n",
    "except ZeroDivisionError: \n",
    "    print(\"Do not ask me to divide by 0 please.\")\n",
    "    \n",
    "print(\"Done\") "
   ]
  },
  {
   "cell_type": "markdown",
   "metadata": {
    "slideshow": {
     "slide_type": "slide"
    }
   },
   "source": [
    "## Exception Hierarchy "
   ]
  },
  {
   "cell_type": "code",
   "execution_count": null,
   "metadata": {
    "slideshow": {
     "slide_type": "slide"
    }
   },
   "outputs": [],
   "source": [
    "x = 0\n",
    "try: \n",
    "    print(\"Div 4 by x is:\", calculator('div', 4, x))\n",
    "    open('missing-file.txt')\n",
    "    print(\"done\")\n",
    "except ZeroDivisionError: \n",
    "    print(\"Do not ask me to divide by 0 please.\")\n",
    "print(\"done\")"
   ]
  },
  {
   "cell_type": "code",
   "execution_count": null,
   "metadata": {
    "slideshow": {
     "slide_type": "slide"
    }
   },
   "outputs": [],
   "source": [
    "x = 5     # change to 0 and see  \n",
    "try: \n",
    "    z = calculator('div', 4, x)   \n",
    "    y = 2 * z\n",
    "    f = open('missing-file.txt', 'r')\n",
    "    \n",
    "except ZeroDivisionError: \n",
    "    print(\"Do not ask me to divide by 0 please.\")\n",
    "except IOError: \n",
    "    print(\"File not found\")\n",
    "f.read()\n",
    "print(\"Finished!\")"
   ]
  },
  {
   "cell_type": "code",
   "execution_count": null,
   "metadata": {
    "slideshow": {
     "slide_type": "slide"
    }
   },
   "outputs": [],
   "source": [
    "x = 2\n",
    "try: \n",
    "    print(calculator('div', 4, x))   # change to 2 and see \n",
    "    open('missing-file', 'r')\n",
    "except Exception:      \n",
    "    print(\"An error occured!\") # hence, don't do this"
   ]
  },
  {
   "cell_type": "markdown",
   "metadata": {
    "slideshow": {
     "slide_type": "slide"
    }
   },
   "source": [
    "## Raising Exceptions"
   ]
  },
  {
   "cell_type": "code",
   "execution_count": null,
   "metadata": {
    "slideshow": {
     "slide_type": "slide"
    }
   },
   "outputs": [],
   "source": [
    "# remember our square root example: \n",
    "def sqrt(x, guess = 1.0): \n",
    "    if x < 0: \n",
    "        return None  \n",
    "    \n",
    "    # calculate square root and return value \n",
    "    return 6"
   ]
  },
  {
   "cell_type": "code",
   "execution_count": null,
   "metadata": {
    "slideshow": {
     "slide_type": "slide"
    }
   },
   "outputs": [],
   "source": [
    "print(sqrt(-3))"
   ]
  },
  {
   "cell_type": "code",
   "execution_count": null,
   "metadata": {
    "slideshow": {
     "slide_type": "slide"
    }
   },
   "outputs": [],
   "source": [
    "# remember our square root example: \n",
    "def sqrt(x, guess = 1.0): \n",
    "    \"\"\"Calculate square root of a positive number. \n",
    "        Raises a ValueError if a negative number is passed to it.\"\"\"\n",
    "    \n",
    "    if x < 0: \n",
    "        raise ValueError(\"Cannot find square root of negative numbers\") \n",
    "    \n",
    "    # calculate square root and return value \n",
    "    return 6"
   ]
  },
  {
   "cell_type": "code",
   "execution_count": null,
   "metadata": {
    "slideshow": {
     "slide_type": "slide"
    }
   },
   "outputs": [],
   "source": [
    "try:\n",
    "    sqrt(-4)   # it's the caller's responsibility to handle the exeption\n",
    "\n",
    "except ValueError:\n",
    "    print(\"Bad number \")\n",
    "\n",
    "print(\"Done\")"
   ]
  }
 ],
 "metadata": {
  "celltoolbar": "Slideshow",
  "kernelspec": {
   "name": "python385jvsc74a57bd0b1bb1e82671b48faf8a41e9f3653cb68f723a05899ee339ff7692d0599f94ed2",
   "display_name": "Python 3.8.5 64-bit ('base': conda)"
  },
  "language_info": {
   "codemirror_mode": {
    "name": "ipython",
    "version": 3
   },
   "file_extension": ".py",
   "mimetype": "text/x-python",
   "name": "python",
   "nbconvert_exporter": "python",
   "pygments_lexer": "ipython3",
   "version": "3.8.5"
  },
  "livereveal": {
   "transition": "fade"
  }
 },
 "nbformat": 4,
 "nbformat_minor": 2
}