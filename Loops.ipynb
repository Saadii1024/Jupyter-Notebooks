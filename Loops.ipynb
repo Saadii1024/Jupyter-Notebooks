{
 "cells": [
  {
   "cell_type": "markdown",
   "metadata": {},
   "source": [
    "# Loops"
   ]
  },
  {
   "cell_type": "code",
   "execution_count": null,
   "metadata": {},
   "outputs": [],
   "source": [
    "for i in range(10):\n",
    "    print(i)"
   ]
  },
  {
   "cell_type": "code",
   "execution_count": null,
   "metadata": {},
   "outputs": [],
   "source": [
    "for i in range(5,20):\n",
    "    print(i)"
   ]
  },
  {
   "cell_type": "code",
   "execution_count": null,
   "metadata": {},
   "outputs": [],
   "source": [
    "for i in range(5,20,2): # in range the 3rd perameter is use to tell the python to make jump of that number in this case it is 2.\n",
    "    print(i)"
   ]
  },
  {
   "cell_type": "code",
   "execution_count": null,
   "metadata": {},
   "outputs": [],
   "source": [
    "num=int(input('Enter the number: ' ))\n",
    "limit= int(input(\"Enter the Limit of the table\"))\n",
    "for i in  range(1,limit+1):\n",
    "    print(num,'x',i,\"=\", num*i)"
   ]
  },
  {
   "cell_type": "code",
   "execution_count": null,
   "metadata": {},
   "outputs": [],
   "source": [
    "number=[2,4,9]\n",
    "for num in number:\n",
    "    print(\"Table of \", num)\n",
    "    for i in range(1,4):\n",
    "        print(num,'x',i,\"=\", num*i)\n",
    "        "
   ]
  },
  {
   "cell_type": "code",
   "execution_count": null,
   "metadata": {},
   "outputs": [],
   "source": [
    "counter=0\n",
    "for i in range(1,11):\n",
    "    counter=counter+1 # or counter+=1\n",
    "    print(i)\n",
    "print(\"Total Numbers are\",counter)"
   ]
  },
  {
   "cell_type": "code",
   "execution_count": null,
   "metadata": {},
   "outputs": [],
   "source": [
    "for iteam in range(5): # it can also be use as to find the table of any number \n",
    "    print(iteam**2) # change the value of 2 to the the number of which you what to find the table. "
   ]
  },
  {
   "cell_type": "code",
   "execution_count": null,
   "metadata": {},
   "outputs": [],
   "source": [
    "counter =1\n",
    "while counter<=5:\n",
    "    print(\"I am the Best\")\n",
    "    counter +=1"
   ]
  },
  {
   "cell_type": "code",
   "execution_count": null,
   "metadata": {},
   "outputs": [],
   "source": [
    "counter=1\n",
    "while counter<=5:\n",
    "    print(counter)\n",
    "    counter += 1\n",
    "print(\"Total number generated\", counter)"
   ]
  },
  {
   "cell_type": "code",
   "execution_count": null,
   "metadata": {},
   "outputs": [],
   "source": [
    "x=int(input())\n",
    "while x!=5:\n",
    "    print(x)\n",
    "    x=int(input())\n",
    "print(\"Loop ended\")"
   ]
  },
  {
   "cell_type": "code",
   "execution_count": null,
   "metadata": {},
   "outputs": [],
   "source": [
    "number =0 \n",
    "for number in range(10):\n",
    "    number =number + 1\n",
    "    if number==5:\n",
    "        break # break here\n",
    "    print(\"Number is \" + str(number))\n",
    "print(\"Out of loop\")"
   ]
  },
  {
   "cell_type": "code",
   "execution_count": null,
   "metadata": {},
   "outputs": [],
   "source": [
    "number =0 \n",
    "for number in range(10):\n",
    "    number =number + 1\n",
    "    if number==5:\n",
    "        continue # skip the number \n",
    "    print(\"Number is \" + str(number))\n",
    "print(\"Out of loop\")"
   ]
  },
  {
   "cell_type": "code",
   "execution_count": null,
   "metadata": {},
   "outputs": [],
   "source": [
    "number =0 \n",
    "for number in range(10):\n",
    "    number =number + 1\n",
    "    if number==5 or number==7 or number==3:\n",
    "        continue # break here\n",
    "    print(\"Number is \" + str(number))\n",
    "print(\"Out of loop\")"
   ]
  },
  {
   "cell_type": "code",
   "execution_count": null,
   "metadata": {},
   "outputs": [],
   "source": [
    "x=int(input())\n",
    "for number in range(x):\n",
    "    number=number+1\n",
    "    print(\"*\"*number)"
   ]
  },
  {
   "cell_type": "code",
   "execution_count": null,
   "metadata": {},
   "outputs": [],
   "source": [
    "print(\"*\",\"^\",\"@\",\"-\")\n",
    "print(\"\\n\")\n",
    "def pattren(s,n):\n",
    "    for n in range(y):\n",
    "        n+=1\n",
    "        print(x*n)\n",
    "x=input(\"Enter the Symbol\")\n",
    "y=int(input(\"Enter the number\"))\n",
    "pattren(x,y)"
   ]
  },
  {
   "cell_type": "code",
   "execution_count": null,
   "metadata": {},
   "outputs": [],
   "source": [
    "def triangle(n):\n",
    "    x=2*n-2\n",
    "    for i in range(0,n):\n",
    "        for j in range(0,x):\n",
    "            print(end=\" \")\n",
    "        x=x-1\n",
    "        for j in range(0,i+1):\n",
    "            print(\"* \",end=\"\")\n",
    "        print(\"\\n\")\n",
    "n=5\n",
    "triangle(n)"
   ]
  },
  {
   "cell_type": "code",
   "execution_count": null,
   "metadata": {},
   "outputs": [],
   "source": []
  }
 ],
 "metadata": {
  "kernelspec": {
   "display_name": "Python 3",
   "language": "python",
   "name": "python3"
  },
  "language_info": {
   "codemirror_mode": {
    "name": "ipython",
    "version": 3
   },
   "file_extension": ".py",
   "mimetype": "text/x-python",
   "name": "python",
   "nbconvert_exporter": "python",
   "pygments_lexer": "ipython3",
   "version": "3.8.5"
  }
 },
 "nbformat": 4,
 "nbformat_minor": 4
}
